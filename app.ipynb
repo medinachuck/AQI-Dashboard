{
 "cells": [
  {
   "cell_type": "code",
   "execution_count": 3,
   "metadata": {},
   "outputs": [],
   "source": [
    "#Set up dependencies\n",
    "import pandas as pd \n",
    "import requests\n",
    "import json "
   ]
  },
  {
   "cell_type": "code",
   "execution_count": 4,
   "metadata": {},
   "outputs": [],
   "source": [
    "#Make API request \n",
    "#Air Now\n",
    "url = \"https://www.airnowapi.org/aq/forecast/zipCode/?format=application/json&zipCode=90242&date=2021-01-25&distance=25&API_KEY=0FEC442D-2563-4111-8038-468B57E77BF5\"\n"
   ]
  },
  {
   "cell_type": "code",
   "execution_count": 5,
   "metadata": {
    "scrolled": true
   },
   "outputs": [
    {
     "name": "stdout",
     "output_type": "stream",
     "text": [
      "<Response [200]>\n"
     ]
    }
   ],
   "source": [
    "print(requests.get(url))"
   ]
  },
  {
   "cell_type": "code",
   "execution_count": 9,
   "metadata": {},
   "outputs": [
    {
     "name": "stdout",
     "output_type": "stream",
     "text": [
      "[{'DateIssue': '2021-01-24 ', 'DateForecast': '2021-01-25 ', 'ReportingArea': 'Southeast LA CO', 'StateCode': 'CA', 'Latitude': 33.9345, 'Longitude': -118.0916, 'ParameterName': 'O3', 'AQI': 31, 'Category': {'Number': 1, 'Name': 'Good'}, 'ActionDay': False}, {'DateIssue': '2021-01-24 ', 'DateForecast': '2021-01-25 ', 'ReportingArea': 'Southeast LA CO', 'StateCode': 'CA', 'Latitude': 33.9345, 'Longitude': -118.0916, 'ParameterName': 'PM2.5', 'AQI': 38, 'Category': {'Number': 1, 'Name': 'Good'}, 'ActionDay': False}, {'DateIssue': '2021-01-24 ', 'DateForecast': '2021-01-25 ', 'ReportingArea': 'Southeast LA CO', 'StateCode': 'CA', 'Latitude': 33.9345, 'Longitude': -118.0916, 'ParameterName': 'PM10', 'AQI': 21, 'Category': {'Number': 1, 'Name': 'Good'}, 'ActionDay': False}, {'DateIssue': '2021-01-24 ', 'DateForecast': '2021-01-25 ', 'ReportingArea': 'Southeast LA CO', 'StateCode': 'CA', 'Latitude': 33.9345, 'Longitude': -118.0916, 'ParameterName': 'NO2', 'AQI': 27, 'Category': {'Number': 1, 'Name': 'Good'}, 'ActionDay': False}, {'DateIssue': '2021-01-24 ', 'DateForecast': '2021-01-25 ', 'ReportingArea': 'Southeast LA CO', 'StateCode': 'CA', 'Latitude': 33.9345, 'Longitude': -118.0916, 'ParameterName': 'CO', 'AQI': 7, 'Category': {'Number': 1, 'Name': 'Good'}, 'ActionDay': False}, {'DateIssue': '2021-01-25 ', 'DateForecast': '2021-01-26 ', 'ReportingArea': 'Southeast LA CO', 'StateCode': 'CA', 'Latitude': 33.9345, 'Longitude': -118.0916, 'ParameterName': 'O3', 'AQI': 27, 'Category': {'Number': 1, 'Name': 'Good'}, 'ActionDay': False}, {'DateIssue': '2021-01-25 ', 'DateForecast': '2021-01-26 ', 'ReportingArea': 'Southeast LA CO', 'StateCode': 'CA', 'Latitude': 33.9345, 'Longitude': -118.0916, 'ParameterName': 'PM2.5', 'AQI': 33, 'Category': {'Number': 1, 'Name': 'Good'}, 'ActionDay': False}, {'DateIssue': '2021-01-25 ', 'DateForecast': '2021-01-26 ', 'ReportingArea': 'Southeast LA CO', 'StateCode': 'CA', 'Latitude': 33.9345, 'Longitude': -118.0916, 'ParameterName': 'PM10', 'AQI': 19, 'Category': {'Number': 1, 'Name': 'Good'}, 'ActionDay': False}, {'DateIssue': '2021-01-25 ', 'DateForecast': '2021-01-26 ', 'ReportingArea': 'Southeast LA CO', 'StateCode': 'CA', 'Latitude': 33.9345, 'Longitude': -118.0916, 'ParameterName': 'NO2', 'AQI': 36, 'Category': {'Number': 1, 'Name': 'Good'}, 'ActionDay': False}, {'DateIssue': '2021-01-25 ', 'DateForecast': '2021-01-26 ', 'ReportingArea': 'Southeast LA CO', 'StateCode': 'CA', 'Latitude': 33.9345, 'Longitude': -118.0916, 'ParameterName': 'CO', 'AQI': 10, 'Category': {'Number': 1, 'Name': 'Good'}, 'ActionDay': False}]\n"
     ]
    }
   ],
   "source": [
    "print(requests.get(url).json())"
   ]
  },
  {
   "cell_type": "code",
   "execution_count": 10,
   "metadata": {},
   "outputs": [],
   "source": [
    "lat = 33.9401, \n",
    "lon = -118.1332"
   ]
  },
  {
   "cell_type": "code",
   "execution_count": 13,
   "metadata": {},
   "outputs": [
    {
     "name": "stdout",
     "output_type": "stream",
     "text": [
      "{'cod': 401, 'message': 'Invalid API key. Please see http://openweathermap.org/faq#error401 for more info.'}\n"
     ]
    }
   ],
   "source": [
    "open_url = \"http://api.openweathermap.org/data/2.5/air_pollution?lat={lat}&lon={lon}&appid={ae8c62cd2e9df9a3b397f4c37ae6b85f}\"\n",
    "print(requests.get(open_url).json())"
   ]
  },
  {
   "cell_type": "code",
   "execution_count": null,
   "metadata": {},
   "outputs": [],
   "source": []
  }
 ],
 "metadata": {
  "kernelspec": {
   "display_name": "Python 3",
   "language": "python",
   "name": "python3"
  },
  "language_info": {
   "codemirror_mode": {
    "name": "ipython",
    "version": 3
   },
   "file_extension": ".py",
   "mimetype": "text/x-python",
   "name": "python",
   "nbconvert_exporter": "python",
   "pygments_lexer": "ipython3",
   "version": "3.8.3"
  }
 },
 "nbformat": 4,
 "nbformat_minor": 4
}
