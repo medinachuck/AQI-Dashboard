{
 "cells": [
  {
   "cell_type": "code",
   "execution_count": 1,
   "metadata": {},
   "outputs": [],
   "source": [
    "#Set up dependencies\n",
    "import pandas as pd \n",
    "import requests\n",
    "import json "
   ]
  },
  {
   "cell_type": "code",
   "execution_count": 2,
   "metadata": {},
   "outputs": [],
   "source": [
    "#Make API request \n",
    "#Air Now\n",
    "url = \"https://www.airnowapi.org/aq/forecast/zipCode/?format=application/json&zipCode=90242&date=2021-01-25&distance=25&API_KEY=0FEC442D-2563-4111-8038-468B57E77BF5\"\n"
   ]
  },
  {
   "cell_type": "code",
   "execution_count": 3,
   "metadata": {
    "scrolled": true
   },
   "outputs": [
    {
     "name": "stdout",
     "output_type": "stream",
     "text": [
      "<Response [200]>\n"
     ]
    }
   ],
   "source": [
    "print(requests.get(url))"
   ]
  },
  {
   "cell_type": "code",
   "execution_count": 4,
   "metadata": {},
   "outputs": [
    {
     "name": "stdout",
     "output_type": "stream",
     "text": [
      "[{'DateIssue': '2021-01-24 ', 'DateForecast': '2021-01-25 ', 'ReportingArea': 'Southeast LA CO', 'StateCode': 'CA', 'Latitude': 33.9345, 'Longitude': -118.0916, 'ParameterName': 'O3', 'AQI': 31, 'Category': {'Number': 1, 'Name': 'Good'}, 'ActionDay': False}, {'DateIssue': '2021-01-24 ', 'DateForecast': '2021-01-25 ', 'ReportingArea': 'Southeast LA CO', 'StateCode': 'CA', 'Latitude': 33.9345, 'Longitude': -118.0916, 'ParameterName': 'PM2.5', 'AQI': 38, 'Category': {'Number': 1, 'Name': 'Good'}, 'ActionDay': False}, {'DateIssue': '2021-01-24 ', 'DateForecast': '2021-01-25 ', 'ReportingArea': 'Southeast LA CO', 'StateCode': 'CA', 'Latitude': 33.9345, 'Longitude': -118.0916, 'ParameterName': 'PM10', 'AQI': 21, 'Category': {'Number': 1, 'Name': 'Good'}, 'ActionDay': False}, {'DateIssue': '2021-01-24 ', 'DateForecast': '2021-01-25 ', 'ReportingArea': 'Southeast LA CO', 'StateCode': 'CA', 'Latitude': 33.9345, 'Longitude': -118.0916, 'ParameterName': 'NO2', 'AQI': 27, 'Category': {'Number': 1, 'Name': 'Good'}, 'ActionDay': False}, {'DateIssue': '2021-01-24 ', 'DateForecast': '2021-01-25 ', 'ReportingArea': 'Southeast LA CO', 'StateCode': 'CA', 'Latitude': 33.9345, 'Longitude': -118.0916, 'ParameterName': 'CO', 'AQI': 7, 'Category': {'Number': 1, 'Name': 'Good'}, 'ActionDay': False}, {'DateIssue': '2021-01-25 ', 'DateForecast': '2021-01-26 ', 'ReportingArea': 'Southeast LA CO', 'StateCode': 'CA', 'Latitude': 33.9345, 'Longitude': -118.0916, 'ParameterName': 'O3', 'AQI': 27, 'Category': {'Number': 1, 'Name': 'Good'}, 'ActionDay': False}, {'DateIssue': '2021-01-25 ', 'DateForecast': '2021-01-26 ', 'ReportingArea': 'Southeast LA CO', 'StateCode': 'CA', 'Latitude': 33.9345, 'Longitude': -118.0916, 'ParameterName': 'PM2.5', 'AQI': 33, 'Category': {'Number': 1, 'Name': 'Good'}, 'ActionDay': False}, {'DateIssue': '2021-01-25 ', 'DateForecast': '2021-01-26 ', 'ReportingArea': 'Southeast LA CO', 'StateCode': 'CA', 'Latitude': 33.9345, 'Longitude': -118.0916, 'ParameterName': 'PM10', 'AQI': 19, 'Category': {'Number': 1, 'Name': 'Good'}, 'ActionDay': False}, {'DateIssue': '2021-01-25 ', 'DateForecast': '2021-01-26 ', 'ReportingArea': 'Southeast LA CO', 'StateCode': 'CA', 'Latitude': 33.9345, 'Longitude': -118.0916, 'ParameterName': 'NO2', 'AQI': 36, 'Category': {'Number': 1, 'Name': 'Good'}, 'ActionDay': False}, {'DateIssue': '2021-01-25 ', 'DateForecast': '2021-01-26 ', 'ReportingArea': 'Southeast LA CO', 'StateCode': 'CA', 'Latitude': 33.9345, 'Longitude': -118.0916, 'ParameterName': 'CO', 'AQI': 10, 'Category': {'Number': 1, 'Name': 'Good'}, 'ActionDay': False}]\n"
     ]
    }
   ],
   "source": [
    "print(requests.get(url).json())"
   ]
  },
  {
   "cell_type": "code",
   "execution_count": 9,
   "metadata": {},
   "outputs": [],
   "source": [
    "lat = 33.9401 \n",
    "lon = -118.1332\n",
    "api_key = \"ae8c62cd2e9df9a3b397f4c37ae6b85f\""
   ]
  },
  {
   "cell_type": "code",
   "execution_count": 10,
   "metadata": {},
   "outputs": [
    {
     "name": "stdout",
     "output_type": "stream",
     "text": [
      "{'coord': {'lon': -118.1332, 'lat': 33.9401}, 'list': [{'main': {'aqi': 2}, 'components': {'co': 600.82, 'no': 14.75, 'no2': 86.37, 'o3': 0.59, 'so2': 5.31, 'pm2_5': 15.6, 'pm10': 22.11, 'nh3': 6.08}, 'dt': 1611633600}]}\n"
     ]
    }
   ],
   "source": [
    "open_url = f\"http://api.openweathermap.org/data/2.5/air_pollution?lat={lat}&lon={lon}&appid={api_key}\"\n",
    "print(requests.get(open_url).json())"
   ]
  },
  {
   "cell_type": "code",
   "execution_count": 15,
   "metadata": {
    "scrolled": true
   },
   "outputs": [
    {
     "name": "stdout",
     "output_type": "stream",
     "text": [
      "{'status': 'ok', 'data': {'aqi': 21, 'idx': 243, 'attributions': [{'url': 'http://www.aqmd.gov/', 'name': 'South Coast Air Quality Management District (AQMD)', 'logo': 'USA-SouthCoastAQMD.png'}, {'url': 'http://www.airnow.gov/', 'name': 'Air Now - US EPA'}, {'url': 'http://www.arb.ca.gov/', 'name': 'CARB - California Air Resources Board', 'logo': 'USA-CAARB.png'}, {'url': 'https://waqi.info/', 'name': 'World Air Quality Index Project'}], 'city': {'geo': [34.06653, -118.22676], 'name': 'Los Angeles-North Main Street', 'url': 'https://aqicn.org/city/losangeles/los-angeles-north-main-street'}, 'dominentpol': 'pm25', 'iaqi': {'co': {'v': 3.4}, 'h': {'v': 49.1}, 'no2': {'v': 10.2}, 'o3': {'v': 20.8}, 'p': {'v': 1007.2}, 'pm10': {'v': 7}, 'pm25': {'v': 21}, 'so2': {'v': 1.5}, 't': {'v': 8.4}, 'w': {'v': 1.2}, 'wg': {'v': 0.7}}, 'time': {'s': '2021-01-25 21:00:00', 'tz': '-08:00', 'v': 1611608400, 'iso': '2021-01-25T21:00:00-08:00'}, 'forecast': {'daily': {'o3': [{'avg': 7, 'day': '2021-01-23', 'max': 19, 'min': 1}, {'avg': 16, 'day': '2021-01-24', 'max': 34, 'min': 1}, {'avg': 17, 'day': '2021-01-25', 'max': 36, 'min': 5}, {'avg': 12, 'day': '2021-01-26', 'max': 34, 'min': 1}, {'avg': 14, 'day': '2021-01-27', 'max': 28, 'min': 6}, {'avg': 20, 'day': '2021-01-28', 'max': 35, 'min': 5}, {'avg': 21, 'day': '2021-01-29', 'max': 29, 'min': 17}], 'pm10': [{'avg': 25, 'day': '2021-01-23', 'max': 51, 'min': 7}, {'avg': 23, 'day': '2021-01-24', 'max': 45, 'min': 5}, {'avg': 12, 'day': '2021-01-25', 'max': 21, 'min': 3}, {'avg': 29, 'day': '2021-01-26', 'max': 61, 'min': 6}, {'avg': 19, 'day': '2021-01-27', 'max': 33, 'min': 7}, {'avg': 22, 'day': '2021-01-28', 'max': 50, 'min': 6}, {'avg': 7, 'day': '2021-01-29', 'max': 9, 'min': 4}], 'pm25': [{'avg': 63, 'day': '2021-01-23', 'max': 115, 'min': 23}, {'avg': 55, 'day': '2021-01-24', 'max': 99, 'min': 15}, {'avg': 28, 'day': '2021-01-25', 'max': 53, 'min': 5}, {'avg': 71, 'day': '2021-01-26', 'max': 153, 'min': 13}, {'avg': 48, 'day': '2021-01-27', 'max': 82, 'min': 14}, {'avg': 56, 'day': '2021-01-28', 'max': 115, 'min': 16}, {'avg': 18, 'day': '2021-01-29', 'max': 23, 'min': 11}], 'uvi': [{'avg': 0, 'day': '2021-01-23', 'max': 1, 'min': 0}, {'avg': 1, 'day': '2021-01-24', 'max': 3, 'min': 0}, {'avg': 1, 'day': '2021-01-25', 'max': 2, 'min': 0}, {'avg': 1, 'day': '2021-01-26', 'max': 3, 'min': 0}, {'avg': 0, 'day': '2021-01-27', 'max': 1, 'min': 0}, {'avg': 1, 'day': '2021-01-28', 'max': 2, 'min': 0}, {'avg': 0, 'day': '2021-01-29', 'max': 1, 'min': 0}, {'avg': 0, 'day': '2021-01-30', 'max': 0, 'min': 0}]}}, 'debug': {'sync': '2021-01-26T14:32:44+09:00'}}}\n"
     ]
    }
   ],
   "source": [
    "#world air quality \n",
    "token = \"2196d979bb3b9dcabc7518b0a49ef68ebe659273\"\n",
    "sample_url = \"https://api.waqi.info/feed/los angeles/?token=2196d979bb3b9dcabc7518b0a49ef68ebe659273\"\n",
    "print(requests.get(sample_url).json())"
   ]
  },
  {
   "cell_type": "code",
   "execution_count": null,
   "metadata": {},
   "outputs": [],
   "source": []
  }
 ],
 "metadata": {
  "kernelspec": {
   "display_name": "Python 3",
   "language": "python",
   "name": "python3"
  },
  "language_info": {
   "codemirror_mode": {
    "name": "ipython",
    "version": 3
   },
   "file_extension": ".py",
   "mimetype": "text/x-python",
   "name": "python",
   "nbconvert_exporter": "python",
   "pygments_lexer": "ipython3",
   "version": "3.8.3"
  }
 },
 "nbformat": 4,
 "nbformat_minor": 4
}
